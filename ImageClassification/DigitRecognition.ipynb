{
  "nbformat": 4,
  "nbformat_minor": 0,
  "metadata": {
    "colab": {
      "name": "DigitRecognition.ipynb",
      "provenance": [],
      "authorship_tag": "ABX9TyMeH+tlH25WWxyXEOIvgPfk",
      "include_colab_link": true
    },
    "kernelspec": {
      "name": "python3",
      "display_name": "Python 3"
    },
    "language_info": {
      "name": "python"
    }
  },
  "cells": [
    {
      "cell_type": "markdown",
      "metadata": {
        "id": "view-in-github",
        "colab_type": "text"
      },
      "source": [
        "<a href=\"https://colab.research.google.com/github/s-srothh/computervision/blob/master/ImageClassification/DigitRecognition.ipynb\" target=\"_parent\"><img src=\"https://colab.research.google.com/assets/colab-badge.svg\" alt=\"Open In Colab\"/></a>"
      ]
    },
    {
      "cell_type": "code",
      "metadata": {
        "id": "aJwRV3QWBBMF"
      },
      "source": [
        "# This is just a simple test to see if it saves it to my git repo"
      ],
      "execution_count": null,
      "outputs": []
    }
  ]
}